{
 "cells": [
  {
   "cell_type": "markdown",
   "id": "9c321f30",
   "metadata": {},
   "source": [
    "# Accessing Data From The US Census\n",
    "\n",
    "This notebook contains code to access data from the US Census' API. There are numerous datasets available ([*link*](https://www.census.gov/data/developers/data-sets.html)).\n",
    "\n",
    "The **American Community Survey** (ACS, [*link*](https://www.census.gov/programs-surveys/acs)) contains various demographic data collected across the country. There are four versions of this survey based on the timeframe of the collected data (*1 to 5 years of data*) and the granularity of location (*city, state, ZIP Code*). The website offers guidelines for when to use which survey ([*link*](https://www.census.gov/programs-surveys/acs/guidance/estimates.html)).\n",
    "\n",
    "The schedule for the release of the data is located [here](https://www.census.gov/programs-surveys/acs/news/data-releases/2020/release-schedule.html). As of March 18, 2022 the 2020 5-year ACS was the most recent release. Prior to the 2020 5-year ACS release the 2020 1-year ACS estimates could be used to fill in the time that the 5-year study does not cover. Furthermore, there is a 2021 Population Estimates and Projections dataset *((link)[https://www.census.gov/data/developers/data-sets/popest-popproj.html])* to supplement these surveys.\n",
    "\n",
    "The [examples](https://api.census.gov/data/2020/acs/acs5/examples.html) page contains the formatting necessary to make calls and lists the geographic area of data that is available."
   ]
  },
  {
   "cell_type": "code",
   "execution_count": 1,
   "id": "e5f703f8",
   "metadata": {},
   "outputs": [],
   "source": [
    "# Import the necessary libraries\n",
    "import pandas as pd\n",
    "import geopandas as gpd\n",
    "import numpy as np\n",
    "import requests\n",
    "import json\n",
    "from datetime import date\n",
    "import os\n",
    "from tqdm import tqdm\n",
    "from sodapy import Socrata\n",
    "\n",
    "import folium"
   ]
  },
  {
   "cell_type": "markdown",
   "id": "309a7974",
   "metadata": {},
   "source": [
    "# I. Get All Demographic Data\n",
    "\n",
    "## I.A. Function To Get State Level Data\n",
    "\n",
    "[5-Year ACS Main Page](https://api.census.gov/data/2020/acs/acs5.html)\n",
    "\n",
    "Example format: https://api.census.gov/data/2020/acs/acs5?get=NAME,B01001_001E&for=state:01\n",
    "\n",
    "\n",
    "You must match the zipcode with the [state code](https://api.census.gov/data/2020/acs/acs5?get=NAME&for=state:*) in order to get the data.\n",
    "\n",
    "For instance *36* is the code for NY."
   ]
  },
  {
   "cell_type": "code",
   "execution_count": 2,
   "id": "4833856e",
   "metadata": {},
   "outputs": [],
   "source": [
    "#A function for the API call\n",
    "# https://www.w3schools.com/python/ref_requests_response.asp\n",
    "\n",
    "# A socrata plugin alternative\n",
    "# https://support.socrata.com/hc/en-us/articles/360051168614-US-Census-Gateway-Plugin\n",
    "\n",
    "def obtain_census_data_state_5_year(year, codes, state):\n",
    "    state_code_url = 'https://api.census.gov/data/{}/acs/acs5?get=NAME,{}&for=state:{}'.format(year, codes, state)\n",
    "    state_code_content = requests.get(state_code_url).json()\n",
    "    return state_code_content"
   ]
  },
  {
   "cell_type": "code",
   "execution_count": 3,
   "id": "39cf98c2",
   "metadata": {},
   "outputs": [
    {
     "data": {
      "text/plain": [
       "[['NAME', 'B19326_001E', 'state'], ['New York', '35379', '36']]"
      ]
     },
     "execution_count": 3,
     "metadata": {},
     "output_type": "execute_result"
    }
   ],
   "source": [
    "# An example call for median income\n",
    "obtain_census_data_state_5_year(year = '2020', codes = 'B19326_001E', state = '36')"
   ]
  },
  {
   "cell_type": "markdown",
   "id": "d8c0bb20",
   "metadata": {},
   "source": [
    "The survey's variable list is [here](https://api.census.gov/data/2020/acs/acs5/variables.html), the variable codes are not always the same year to year and survey version to survey version (*i.e. the 5 year and 1 year surveys*); after review the 2020 and 2019 codes for the variables I selected are the same. There are over 66,000 variables in this dataset, loading and searching through them may take a while *([source](https://api.census.gov/data/2020/acs/acs5))*."
   ]
  },
  {
   "cell_type": "code",
   "execution_count": 4,
   "id": "18e6ed4c",
   "metadata": {},
   "outputs": [],
   "source": [
    "# The codes and associated definitions we will examine\n",
    "census_codes = {\n",
    "    \"Total_Pop\": \"B01001_001E\",\n",
    "    \"Total_Pop_Male\": \"B01001_002E\",\n",
    "    \"Total_Pop_Female\": \"B01001_026E\",\n",
    "    \"Median_Age\": \"B01002_001E\",\n",
    "    \"Median_Age_Male\": \"B01002_002E\",\n",
    "    \"Median_Age_Female\": \"B01002_003E\",\n",
    "}"
   ]
  },
  {
   "cell_type": "code",
   "execution_count": 5,
   "id": "0e06299e",
   "metadata": {},
   "outputs": [],
   "source": [
    "inv_census_codes = {v: k for k, v in census_codes.items()}"
   ]
  },
  {
   "cell_type": "code",
   "execution_count": 6,
   "id": "fb1eb1d3",
   "metadata": {},
   "outputs": [
    {
     "data": {
      "text/plain": [
       "{'B01001_001E': 'Total_Pop',\n",
       " 'B01001_002E': 'Total_Pop_Male',\n",
       " 'B01001_026E': 'Total_Pop_Female',\n",
       " 'B01002_001E': 'Median_Age',\n",
       " 'B01002_002E': 'Median_Age_Male',\n",
       " 'B01002_003E': 'Median_Age_Female'}"
      ]
     },
     "execution_count": 6,
     "metadata": {},
     "output_type": "execute_result"
    }
   ],
   "source": [
    "# An inverted dictionary\n",
    "inv_census_codes"
   ]
  },
  {
   "cell_type": "code",
   "execution_count": 7,
   "id": "7bb5359b",
   "metadata": {},
   "outputs": [],
   "source": [
    "#Inverts the dictionary so the columns can be renamed, add keys from the forthcoming index dictionary to this dictionary\n",
    "inv_census_codes = {v: k for k, v in census_codes.items()}\n",
    "# inv_census_codes.update({'District_Name':'District_Name', 'CD': 'CD', 'State_Id': 'State_Id','State': 'State', 'CD_Id_Year': 'CD_Id_Year'})\n",
    "\n",
    "#Creates a string of codes to be used in the API call\n",
    "columns_url = ''\n",
    "\n",
    "for key in census_codes:\n",
    "    columns_url += census_codes[key] + ','\n",
    "\n",
    "# Remove the last comma\n",
    "columns_url = columns_url[:-1]"
   ]
  },
  {
   "cell_type": "markdown",
   "id": "c24d5d84",
   "metadata": {},
   "source": [
    "## I.B. 2020 ACS Data\n",
    "\n",
    "The call returns a list of lists, where the first list contains the column names and the subsequent lists are the rows of data. The following is a call for New York:"
   ]
  },
  {
   "cell_type": "code",
   "execution_count": 8,
   "id": "21848f53",
   "metadata": {},
   "outputs": [
    {
     "data": {
      "text/plain": [
       "[['NAME',\n",
       "  'B01001_001E',\n",
       "  'B01001_002E',\n",
       "  'B01001_026E',\n",
       "  'B01002_001E',\n",
       "  'B01002_002E',\n",
       "  'B01002_003E',\n",
       "  'state'],\n",
       " ['New York', '19514849', '9474184', '10040665', '39.0', '37.5', '40.5', '36']]"
      ]
     },
     "execution_count": 8,
     "metadata": {},
     "output_type": "execute_result"
    }
   ],
   "source": [
    "obtain_census_data_state_5_year(year = '2020', codes = columns_url, state = '36')"
   ]
  },
  {
   "cell_type": "code",
   "execution_count": 9,
   "id": "65a32a3f",
   "metadata": {},
   "outputs": [],
   "source": [
    "all_states_census_raw_2020 = obtain_census_data_state_5_year(year = '2020', codes = columns_url, state = '*')"
   ]
  },
  {
   "cell_type": "code",
   "execution_count": 10,
   "id": "e1d26c6e",
   "metadata": {},
   "outputs": [
    {
     "data": {
      "text/plain": [
       "['NAME',\n",
       " 'B01001_001E',\n",
       " 'B01001_002E',\n",
       " 'B01001_026E',\n",
       " 'B01002_001E',\n",
       " 'B01002_002E',\n",
       " 'B01002_003E',\n",
       " 'state']"
      ]
     },
     "execution_count": 10,
     "metadata": {},
     "output_type": "execute_result"
    }
   ],
   "source": [
    "# The first list is the columns\n",
    "all_states_census_raw_2020[0]"
   ]
  },
  {
   "cell_type": "code",
   "execution_count": 11,
   "id": "a97ee736",
   "metadata": {},
   "outputs": [],
   "source": [
    "# We can reverse the codes so the Data Frame's columns will be easy to read\n",
    "columns = [inv_census_codes.get(item,item)  for item in all_states_census_raw_2020[0]]"
   ]
  },
  {
   "cell_type": "code",
   "execution_count": 12,
   "id": "ed15d967",
   "metadata": {},
   "outputs": [],
   "source": [
    "all_states_census_raw_2020 = pd.DataFrame(all_states_census_raw_2020[1:],columns = columns)"
   ]
  },
  {
   "cell_type": "code",
   "execution_count": 13,
   "id": "9c682bff",
   "metadata": {
    "scrolled": true
   },
   "outputs": [
    {
     "data": {
      "text/html": [
       "<div>\n",
       "<style scoped>\n",
       "    .dataframe tbody tr th:only-of-type {\n",
       "        vertical-align: middle;\n",
       "    }\n",
       "\n",
       "    .dataframe tbody tr th {\n",
       "        vertical-align: top;\n",
       "    }\n",
       "\n",
       "    .dataframe thead th {\n",
       "        text-align: right;\n",
       "    }\n",
       "</style>\n",
       "<table border=\"1\" class=\"dataframe\">\n",
       "  <thead>\n",
       "    <tr style=\"text-align: right;\">\n",
       "      <th></th>\n",
       "      <th>NAME</th>\n",
       "      <th>Total_Pop</th>\n",
       "      <th>Total_Pop_Male</th>\n",
       "      <th>Total_Pop_Female</th>\n",
       "      <th>Median_Age</th>\n",
       "      <th>Median_Age_Male</th>\n",
       "      <th>Median_Age_Female</th>\n",
       "      <th>state</th>\n",
       "    </tr>\n",
       "  </thead>\n",
       "  <tbody>\n",
       "    <tr>\n",
       "      <th>0</th>\n",
       "      <td>Pennsylvania</td>\n",
       "      <td>12794885</td>\n",
       "      <td>6269142</td>\n",
       "      <td>6525743</td>\n",
       "      <td>40.9</td>\n",
       "      <td>39.3</td>\n",
       "      <td>42.5</td>\n",
       "      <td>42</td>\n",
       "    </tr>\n",
       "    <tr>\n",
       "      <th>1</th>\n",
       "      <td>California</td>\n",
       "      <td>39346023</td>\n",
       "      <td>19562882</td>\n",
       "      <td>19783141</td>\n",
       "      <td>36.7</td>\n",
       "      <td>35.6</td>\n",
       "      <td>37.9</td>\n",
       "      <td>06</td>\n",
       "    </tr>\n",
       "    <tr>\n",
       "      <th>2</th>\n",
       "      <td>West Virginia</td>\n",
       "      <td>1807426</td>\n",
       "      <td>893743</td>\n",
       "      <td>913683</td>\n",
       "      <td>42.7</td>\n",
       "      <td>41.3</td>\n",
       "      <td>44.1</td>\n",
       "      <td>54</td>\n",
       "    </tr>\n",
       "    <tr>\n",
       "      <th>3</th>\n",
       "      <td>Utah</td>\n",
       "      <td>3151239</td>\n",
       "      <td>1586950</td>\n",
       "      <td>1564289</td>\n",
       "      <td>31.1</td>\n",
       "      <td>30.4</td>\n",
       "      <td>31.8</td>\n",
       "      <td>49</td>\n",
       "    </tr>\n",
       "    <tr>\n",
       "      <th>4</th>\n",
       "      <td>New York</td>\n",
       "      <td>19514849</td>\n",
       "      <td>9474184</td>\n",
       "      <td>10040665</td>\n",
       "      <td>39.0</td>\n",
       "      <td>37.5</td>\n",
       "      <td>40.5</td>\n",
       "      <td>36</td>\n",
       "    </tr>\n",
       "  </tbody>\n",
       "</table>\n",
       "</div>"
      ],
      "text/plain": [
       "            NAME Total_Pop Total_Pop_Male Total_Pop_Female Median_Age  \\\n",
       "0   Pennsylvania  12794885        6269142          6525743       40.9   \n",
       "1     California  39346023       19562882         19783141       36.7   \n",
       "2  West Virginia   1807426         893743           913683       42.7   \n",
       "3           Utah   3151239        1586950          1564289       31.1   \n",
       "4       New York  19514849        9474184         10040665       39.0   \n",
       "\n",
       "  Median_Age_Male Median_Age_Female state  \n",
       "0            39.3              42.5    42  \n",
       "1            35.6              37.9    06  \n",
       "2            41.3              44.1    54  \n",
       "3            30.4              31.8    49  \n",
       "4            37.5              40.5    36  "
      ]
     },
     "execution_count": 13,
     "metadata": {},
     "output_type": "execute_result"
    }
   ],
   "source": [
    "all_states_census_raw_2020.head()"
   ]
  },
  {
   "cell_type": "code",
   "execution_count": 14,
   "id": "dd9961b2",
   "metadata": {},
   "outputs": [
    {
     "data": {
      "text/html": [
       "<div>\n",
       "<style scoped>\n",
       "    .dataframe tbody tr th:only-of-type {\n",
       "        vertical-align: middle;\n",
       "    }\n",
       "\n",
       "    .dataframe tbody tr th {\n",
       "        vertical-align: top;\n",
       "    }\n",
       "\n",
       "    .dataframe thead th {\n",
       "        text-align: right;\n",
       "    }\n",
       "</style>\n",
       "<table border=\"1\" class=\"dataframe\">\n",
       "  <thead>\n",
       "    <tr style=\"text-align: right;\">\n",
       "      <th></th>\n",
       "      <th>NAME</th>\n",
       "      <th>Total_Pop_2020</th>\n",
       "      <th>Total_Pop_Male_2020</th>\n",
       "      <th>Total_Pop_Female_2020</th>\n",
       "      <th>Median_Age_2020</th>\n",
       "      <th>Median_Age_Male_2020</th>\n",
       "      <th>Median_Age_Female_2020</th>\n",
       "      <th>state</th>\n",
       "    </tr>\n",
       "  </thead>\n",
       "  <tbody>\n",
       "    <tr>\n",
       "      <th>0</th>\n",
       "      <td>Pennsylvania</td>\n",
       "      <td>12794885</td>\n",
       "      <td>6269142</td>\n",
       "      <td>6525743</td>\n",
       "      <td>40.9</td>\n",
       "      <td>39.3</td>\n",
       "      <td>42.5</td>\n",
       "      <td>42</td>\n",
       "    </tr>\n",
       "    <tr>\n",
       "      <th>1</th>\n",
       "      <td>California</td>\n",
       "      <td>39346023</td>\n",
       "      <td>19562882</td>\n",
       "      <td>19783141</td>\n",
       "      <td>36.7</td>\n",
       "      <td>35.6</td>\n",
       "      <td>37.9</td>\n",
       "      <td>06</td>\n",
       "    </tr>\n",
       "    <tr>\n",
       "      <th>2</th>\n",
       "      <td>West Virginia</td>\n",
       "      <td>1807426</td>\n",
       "      <td>893743</td>\n",
       "      <td>913683</td>\n",
       "      <td>42.7</td>\n",
       "      <td>41.3</td>\n",
       "      <td>44.1</td>\n",
       "      <td>54</td>\n",
       "    </tr>\n",
       "    <tr>\n",
       "      <th>3</th>\n",
       "      <td>Utah</td>\n",
       "      <td>3151239</td>\n",
       "      <td>1586950</td>\n",
       "      <td>1564289</td>\n",
       "      <td>31.1</td>\n",
       "      <td>30.4</td>\n",
       "      <td>31.8</td>\n",
       "      <td>49</td>\n",
       "    </tr>\n",
       "    <tr>\n",
       "      <th>4</th>\n",
       "      <td>New York</td>\n",
       "      <td>19514849</td>\n",
       "      <td>9474184</td>\n",
       "      <td>10040665</td>\n",
       "      <td>39.0</td>\n",
       "      <td>37.5</td>\n",
       "      <td>40.5</td>\n",
       "      <td>36</td>\n",
       "    </tr>\n",
       "  </tbody>\n",
       "</table>\n",
       "</div>"
      ],
      "text/plain": [
       "            NAME Total_Pop_2020 Total_Pop_Male_2020 Total_Pop_Female_2020  \\\n",
       "0   Pennsylvania       12794885             6269142               6525743   \n",
       "1     California       39346023            19562882              19783141   \n",
       "2  West Virginia        1807426              893743                913683   \n",
       "3           Utah        3151239             1586950               1564289   \n",
       "4       New York       19514849             9474184              10040665   \n",
       "\n",
       "  Median_Age_2020 Median_Age_Male_2020 Median_Age_Female_2020 state  \n",
       "0            40.9                 39.3                   42.5    42  \n",
       "1            36.7                 35.6                   37.9    06  \n",
       "2            42.7                 41.3                   44.1    54  \n",
       "3            31.1                 30.4                   31.8    49  \n",
       "4            39.0                 37.5                   40.5    36  "
      ]
     },
     "execution_count": 14,
     "metadata": {},
     "output_type": "execute_result"
    }
   ],
   "source": [
    "# Add suffix\n",
    "all_states_census_raw_2020 = all_states_census_raw_2020.add_suffix(suffix = '_2020')\n",
    "all_states_census_raw_2020.rename(columns={\"NAME_2020\": \"NAME\", \"state_2020\": \"state\"}, inplace = True)\n",
    "all_states_census_raw_2020.head()"
   ]
  },
  {
   "cell_type": "code",
   "execution_count": 15,
   "id": "3a20c352",
   "metadata": {
    "scrolled": true
   },
   "outputs": [
    {
     "name": "stdout",
     "output_type": "stream",
     "text": [
      "<class 'pandas.core.frame.DataFrame'>\n",
      "RangeIndex: 52 entries, 0 to 51\n",
      "Data columns (total 8 columns):\n",
      " #   Column                  Non-Null Count  Dtype \n",
      "---  ------                  --------------  ----- \n",
      " 0   NAME                    52 non-null     object\n",
      " 1   Total_Pop_2020          52 non-null     object\n",
      " 2   Total_Pop_Male_2020     52 non-null     object\n",
      " 3   Total_Pop_Female_2020   52 non-null     object\n",
      " 4   Median_Age_2020         52 non-null     object\n",
      " 5   Median_Age_Male_2020    52 non-null     object\n",
      " 6   Median_Age_Female_2020  52 non-null     object\n",
      " 7   state                   52 non-null     object\n",
      "dtypes: object(8)\n",
      "memory usage: 3.4+ KB\n"
     ]
    }
   ],
   "source": [
    "all_states_census_raw_2020.info()"
   ]
  },
  {
   "cell_type": "code",
   "execution_count": 16,
   "id": "49a3c405",
   "metadata": {},
   "outputs": [],
   "source": [
    "all_states_census_raw_2020.to_csv(\"data_to_plot/state_level_data_2020.csv\", index = False)\n",
    "all_states_census_raw_2020 = pd.read_csv(\"data_to_plot/state_level_data_2020.csv\")"
   ]
  },
  {
   "cell_type": "code",
   "execution_count": 17,
   "id": "e3017f49",
   "metadata": {},
   "outputs": [
    {
     "name": "stdout",
     "output_type": "stream",
     "text": [
      "<class 'pandas.core.frame.DataFrame'>\n",
      "RangeIndex: 52 entries, 0 to 51\n",
      "Data columns (total 8 columns):\n",
      " #   Column                  Non-Null Count  Dtype  \n",
      "---  ------                  --------------  -----  \n",
      " 0   NAME                    52 non-null     object \n",
      " 1   Total_Pop_2020          52 non-null     int64  \n",
      " 2   Total_Pop_Male_2020     52 non-null     int64  \n",
      " 3   Total_Pop_Female_2020   52 non-null     int64  \n",
      " 4   Median_Age_2020         52 non-null     float64\n",
      " 5   Median_Age_Male_2020    52 non-null     float64\n",
      " 6   Median_Age_Female_2020  52 non-null     float64\n",
      " 7   state                   52 non-null     int64  \n",
      "dtypes: float64(3), int64(4), object(1)\n",
      "memory usage: 3.4+ KB\n"
     ]
    }
   ],
   "source": [
    "# Note the change in data types after the csv file is open\n",
    "all_states_census_raw_2020.info()"
   ]
  },
  {
   "cell_type": "markdown",
   "id": "6bc101ad",
   "metadata": {},
   "source": [
    "## I.C. 2019 ACS Data"
   ]
  },
  {
   "cell_type": "code",
   "execution_count": 18,
   "id": "4300f588",
   "metadata": {},
   "outputs": [],
   "source": [
    "all_states_census_raw_2019 = obtain_census_data_state_5_year(year = '2019', codes = columns_url, state = '*')"
   ]
  },
  {
   "cell_type": "code",
   "execution_count": 19,
   "id": "d310c49e",
   "metadata": {},
   "outputs": [],
   "source": [
    "# We can reverse the codes so the Data Frame's columns will be easy to read\n",
    "columns = [inv_census_codes.get(item,item)  for item in all_states_census_raw_2019[0]]"
   ]
  },
  {
   "cell_type": "code",
   "execution_count": 20,
   "id": "ffc1f670",
   "metadata": {
    "scrolled": true
   },
   "outputs": [
    {
     "data": {
      "text/html": [
       "<div>\n",
       "<style scoped>\n",
       "    .dataframe tbody tr th:only-of-type {\n",
       "        vertical-align: middle;\n",
       "    }\n",
       "\n",
       "    .dataframe tbody tr th {\n",
       "        vertical-align: top;\n",
       "    }\n",
       "\n",
       "    .dataframe thead th {\n",
       "        text-align: right;\n",
       "    }\n",
       "</style>\n",
       "<table border=\"1\" class=\"dataframe\">\n",
       "  <thead>\n",
       "    <tr style=\"text-align: right;\">\n",
       "      <th></th>\n",
       "      <th>NAME</th>\n",
       "      <th>Total_Pop</th>\n",
       "      <th>Total_Pop_Male</th>\n",
       "      <th>Total_Pop_Female</th>\n",
       "      <th>Median_Age</th>\n",
       "      <th>Median_Age_Male</th>\n",
       "      <th>Median_Age_Female</th>\n",
       "      <th>state</th>\n",
       "    </tr>\n",
       "  </thead>\n",
       "  <tbody>\n",
       "    <tr>\n",
       "      <th>0</th>\n",
       "      <td>Alabama</td>\n",
       "      <td>4876250</td>\n",
       "      <td>2359355</td>\n",
       "      <td>2516895</td>\n",
       "      <td>39.0</td>\n",
       "      <td>37.5</td>\n",
       "      <td>40.5</td>\n",
       "      <td>01</td>\n",
       "    </tr>\n",
       "    <tr>\n",
       "      <th>1</th>\n",
       "      <td>Alaska</td>\n",
       "      <td>737068</td>\n",
       "      <td>384915</td>\n",
       "      <td>352153</td>\n",
       "      <td>34.3</td>\n",
       "      <td>33.8</td>\n",
       "      <td>34.9</td>\n",
       "      <td>02</td>\n",
       "    </tr>\n",
       "    <tr>\n",
       "      <th>2</th>\n",
       "      <td>Arizona</td>\n",
       "      <td>7050299</td>\n",
       "      <td>3504509</td>\n",
       "      <td>3545790</td>\n",
       "      <td>37.7</td>\n",
       "      <td>36.3</td>\n",
       "      <td>39.0</td>\n",
       "      <td>04</td>\n",
       "    </tr>\n",
       "    <tr>\n",
       "      <th>3</th>\n",
       "      <td>Arkansas</td>\n",
       "      <td>2999370</td>\n",
       "      <td>1471760</td>\n",
       "      <td>1527610</td>\n",
       "      <td>38.1</td>\n",
       "      <td>36.8</td>\n",
       "      <td>39.5</td>\n",
       "      <td>05</td>\n",
       "    </tr>\n",
       "    <tr>\n",
       "      <th>4</th>\n",
       "      <td>California</td>\n",
       "      <td>39283497</td>\n",
       "      <td>19526298</td>\n",
       "      <td>19757199</td>\n",
       "      <td>36.5</td>\n",
       "      <td>35.4</td>\n",
       "      <td>37.7</td>\n",
       "      <td>06</td>\n",
       "    </tr>\n",
       "  </tbody>\n",
       "</table>\n",
       "</div>"
      ],
      "text/plain": [
       "         NAME Total_Pop Total_Pop_Male Total_Pop_Female Median_Age  \\\n",
       "0     Alabama   4876250        2359355          2516895       39.0   \n",
       "1      Alaska    737068         384915           352153       34.3   \n",
       "2     Arizona   7050299        3504509          3545790       37.7   \n",
       "3    Arkansas   2999370        1471760          1527610       38.1   \n",
       "4  California  39283497       19526298         19757199       36.5   \n",
       "\n",
       "  Median_Age_Male Median_Age_Female state  \n",
       "0            37.5              40.5    01  \n",
       "1            33.8              34.9    02  \n",
       "2            36.3              39.0    04  \n",
       "3            36.8              39.5    05  \n",
       "4            35.4              37.7    06  "
      ]
     },
     "execution_count": 20,
     "metadata": {},
     "output_type": "execute_result"
    }
   ],
   "source": [
    "all_states_census_raw_2019 = pd.DataFrame(all_states_census_raw_2019[1:],columns = columns)\n",
    "all_states_census_raw_2019.head()"
   ]
  },
  {
   "cell_type": "code",
   "execution_count": 21,
   "id": "613143ce",
   "metadata": {},
   "outputs": [
    {
     "data": {
      "text/html": [
       "<div>\n",
       "<style scoped>\n",
       "    .dataframe tbody tr th:only-of-type {\n",
       "        vertical-align: middle;\n",
       "    }\n",
       "\n",
       "    .dataframe tbody tr th {\n",
       "        vertical-align: top;\n",
       "    }\n",
       "\n",
       "    .dataframe thead th {\n",
       "        text-align: right;\n",
       "    }\n",
       "</style>\n",
       "<table border=\"1\" class=\"dataframe\">\n",
       "  <thead>\n",
       "    <tr style=\"text-align: right;\">\n",
       "      <th></th>\n",
       "      <th>NAME</th>\n",
       "      <th>Total_Pop_2019</th>\n",
       "      <th>Total_Pop_Male_2019</th>\n",
       "      <th>Total_Pop_Female_2019</th>\n",
       "      <th>Median_Age_2019</th>\n",
       "      <th>Median_Age_Male_2019</th>\n",
       "      <th>Median_Age_Female_2019</th>\n",
       "      <th>state</th>\n",
       "    </tr>\n",
       "  </thead>\n",
       "  <tbody>\n",
       "    <tr>\n",
       "      <th>0</th>\n",
       "      <td>Alabama</td>\n",
       "      <td>4876250</td>\n",
       "      <td>2359355</td>\n",
       "      <td>2516895</td>\n",
       "      <td>39.0</td>\n",
       "      <td>37.5</td>\n",
       "      <td>40.5</td>\n",
       "      <td>01</td>\n",
       "    </tr>\n",
       "    <tr>\n",
       "      <th>1</th>\n",
       "      <td>Alaska</td>\n",
       "      <td>737068</td>\n",
       "      <td>384915</td>\n",
       "      <td>352153</td>\n",
       "      <td>34.3</td>\n",
       "      <td>33.8</td>\n",
       "      <td>34.9</td>\n",
       "      <td>02</td>\n",
       "    </tr>\n",
       "    <tr>\n",
       "      <th>2</th>\n",
       "      <td>Arizona</td>\n",
       "      <td>7050299</td>\n",
       "      <td>3504509</td>\n",
       "      <td>3545790</td>\n",
       "      <td>37.7</td>\n",
       "      <td>36.3</td>\n",
       "      <td>39.0</td>\n",
       "      <td>04</td>\n",
       "    </tr>\n",
       "    <tr>\n",
       "      <th>3</th>\n",
       "      <td>Arkansas</td>\n",
       "      <td>2999370</td>\n",
       "      <td>1471760</td>\n",
       "      <td>1527610</td>\n",
       "      <td>38.1</td>\n",
       "      <td>36.8</td>\n",
       "      <td>39.5</td>\n",
       "      <td>05</td>\n",
       "    </tr>\n",
       "    <tr>\n",
       "      <th>4</th>\n",
       "      <td>California</td>\n",
       "      <td>39283497</td>\n",
       "      <td>19526298</td>\n",
       "      <td>19757199</td>\n",
       "      <td>36.5</td>\n",
       "      <td>35.4</td>\n",
       "      <td>37.7</td>\n",
       "      <td>06</td>\n",
       "    </tr>\n",
       "  </tbody>\n",
       "</table>\n",
       "</div>"
      ],
      "text/plain": [
       "         NAME Total_Pop_2019 Total_Pop_Male_2019 Total_Pop_Female_2019  \\\n",
       "0     Alabama        4876250             2359355               2516895   \n",
       "1      Alaska         737068              384915                352153   \n",
       "2     Arizona        7050299             3504509               3545790   \n",
       "3    Arkansas        2999370             1471760               1527610   \n",
       "4  California       39283497            19526298              19757199   \n",
       "\n",
       "  Median_Age_2019 Median_Age_Male_2019 Median_Age_Female_2019 state  \n",
       "0            39.0                 37.5                   40.5    01  \n",
       "1            34.3                 33.8                   34.9    02  \n",
       "2            37.7                 36.3                   39.0    04  \n",
       "3            38.1                 36.8                   39.5    05  \n",
       "4            36.5                 35.4                   37.7    06  "
      ]
     },
     "execution_count": 21,
     "metadata": {},
     "output_type": "execute_result"
    }
   ],
   "source": [
    "# Add suffix\n",
    "all_states_census_raw_2019 = all_states_census_raw_2019.add_suffix(suffix = '_2019')\n",
    "all_states_census_raw_2019.rename(columns={\"NAME_2019\": \"NAME\", \"state_2019\": \"state\"}, inplace = True)\n",
    "all_states_census_raw_2019.head()"
   ]
  },
  {
   "cell_type": "code",
   "execution_count": 22,
   "id": "9f56ae98",
   "metadata": {},
   "outputs": [],
   "source": [
    "all_states_census_raw_2019.to_csv(\"data_to_plot/state_level_data_2019.csv\", index = False)\n",
    "all_states_census_raw_2019 = pd.read_csv(\"data_to_plot/state_level_data_2019.csv\")"
   ]
  },
  {
   "cell_type": "markdown",
   "id": "ab7bf510",
   "metadata": {},
   "source": [
    "## I.C. 2021 Population Estimates and Projections Data"
   ]
  },
  {
   "cell_type": "code",
   "execution_count": 23,
   "id": "8391edb4",
   "metadata": {},
   "outputs": [],
   "source": [
    "def obtain_latest_population_estimates(year, code, state):\n",
    "    state_code_url = 'https://api.census.gov/data/{}/pep/population?get=NAME,{}&for=state:{}'.format(year, code, state)\n",
    "    state_code_content = requests.get(state_code_url).json()\n",
    "    return state_code_content"
   ]
  },
  {
   "cell_type": "code",
   "execution_count": 24,
   "id": "b05bc56b",
   "metadata": {},
   "outputs": [],
   "source": [
    "population_estimates_raw_2021 = obtain_latest_population_estimates(year = '2021', code = 'POP_2021', state = '*')"
   ]
  },
  {
   "cell_type": "code",
   "execution_count": 25,
   "id": "f9ec06bc",
   "metadata": {},
   "outputs": [],
   "source": [
    "population_estimates_2021 = pd.DataFrame(population_estimates_raw_2021[1:],columns = ['NAME', 'Total_Pop_2021', 'state'])"
   ]
  },
  {
   "cell_type": "code",
   "execution_count": 26,
   "id": "1816497d",
   "metadata": {
    "scrolled": true
   },
   "outputs": [
    {
     "data": {
      "text/html": [
       "<div>\n",
       "<style scoped>\n",
       "    .dataframe tbody tr th:only-of-type {\n",
       "        vertical-align: middle;\n",
       "    }\n",
       "\n",
       "    .dataframe tbody tr th {\n",
       "        vertical-align: top;\n",
       "    }\n",
       "\n",
       "    .dataframe thead th {\n",
       "        text-align: right;\n",
       "    }\n",
       "</style>\n",
       "<table border=\"1\" class=\"dataframe\">\n",
       "  <thead>\n",
       "    <tr style=\"text-align: right;\">\n",
       "      <th></th>\n",
       "      <th>NAME</th>\n",
       "      <th>Total_Pop_2021</th>\n",
       "      <th>state</th>\n",
       "    </tr>\n",
       "  </thead>\n",
       "  <tbody>\n",
       "    <tr>\n",
       "      <th>0</th>\n",
       "      <td>Oklahoma</td>\n",
       "      <td>3986639</td>\n",
       "      <td>40</td>\n",
       "    </tr>\n",
       "    <tr>\n",
       "      <th>1</th>\n",
       "      <td>Nebraska</td>\n",
       "      <td>1963692</td>\n",
       "      <td>31</td>\n",
       "    </tr>\n",
       "    <tr>\n",
       "      <th>2</th>\n",
       "      <td>Hawaii</td>\n",
       "      <td>1441553</td>\n",
       "      <td>15</td>\n",
       "    </tr>\n",
       "    <tr>\n",
       "      <th>3</th>\n",
       "      <td>South Dakota</td>\n",
       "      <td>895376</td>\n",
       "      <td>46</td>\n",
       "    </tr>\n",
       "    <tr>\n",
       "      <th>4</th>\n",
       "      <td>Tennessee</td>\n",
       "      <td>6975218</td>\n",
       "      <td>47</td>\n",
       "    </tr>\n",
       "  </tbody>\n",
       "</table>\n",
       "</div>"
      ],
      "text/plain": [
       "           NAME Total_Pop_2021 state\n",
       "0      Oklahoma        3986639    40\n",
       "1      Nebraska        1963692    31\n",
       "2        Hawaii        1441553    15\n",
       "3  South Dakota         895376    46\n",
       "4     Tennessee        6975218    47"
      ]
     },
     "execution_count": 26,
     "metadata": {},
     "output_type": "execute_result"
    }
   ],
   "source": [
    "population_estimates_2021.head()"
   ]
  },
  {
   "cell_type": "code",
   "execution_count": 27,
   "id": "1f05ffbd",
   "metadata": {},
   "outputs": [],
   "source": [
    "population_estimates_2021.to_csv(\"data_to_plot/state_level_data_2021.csv\", index = False)\n",
    "population_estimates_2021 = pd.read_csv(\"data_to_plot/state_level_data_2021.csv\")"
   ]
  },
  {
   "cell_type": "markdown",
   "id": "785ab875",
   "metadata": {},
   "source": [
    "## I.D. Combine the Three Years of Data"
   ]
  },
  {
   "cell_type": "code",
   "execution_count": 28,
   "id": "69123102",
   "metadata": {},
   "outputs": [],
   "source": [
    "all_states_census_df = all_states_census_raw_2020.copy()"
   ]
  },
  {
   "cell_type": "code",
   "execution_count": 29,
   "id": "29741667",
   "metadata": {},
   "outputs": [],
   "source": [
    "# Add the 2019 data to the new dataframe\n",
    "all_states_census_df = all_states_census_df.merge(all_states_census_raw_2019,\n",
    "                                                  left_on='NAME',\n",
    "                                                  right_on='NAME',\n",
    "                                                  suffixes=('', '_2019'))"
   ]
  },
  {
   "cell_type": "code",
   "execution_count": 30,
   "id": "609d51a9",
   "metadata": {},
   "outputs": [],
   "source": [
    "# Add the 2021 data to the new dataframe\n",
    "all_states_census_df = all_states_census_df.merge(population_estimates_2021,\n",
    "                                                  left_on='NAME',\n",
    "                                                  right_on='NAME',\n",
    "                                                  suffixes=('', '_2021'))"
   ]
  },
  {
   "cell_type": "code",
   "execution_count": 31,
   "id": "11bef92b",
   "metadata": {
    "scrolled": false
   },
   "outputs": [
    {
     "data": {
      "text/html": [
       "<div>\n",
       "<style scoped>\n",
       "    .dataframe tbody tr th:only-of-type {\n",
       "        vertical-align: middle;\n",
       "    }\n",
       "\n",
       "    .dataframe tbody tr th {\n",
       "        vertical-align: top;\n",
       "    }\n",
       "\n",
       "    .dataframe thead th {\n",
       "        text-align: right;\n",
       "    }\n",
       "</style>\n",
       "<table border=\"1\" class=\"dataframe\">\n",
       "  <thead>\n",
       "    <tr style=\"text-align: right;\">\n",
       "      <th></th>\n",
       "      <th>NAME</th>\n",
       "      <th>Total_Pop_2020</th>\n",
       "      <th>Total_Pop_Male_2020</th>\n",
       "      <th>Total_Pop_Female_2020</th>\n",
       "      <th>Median_Age_2020</th>\n",
       "      <th>Median_Age_Male_2020</th>\n",
       "      <th>Median_Age_Female_2020</th>\n",
       "      <th>state</th>\n",
       "      <th>Total_Pop_2019</th>\n",
       "      <th>Total_Pop_Male_2019</th>\n",
       "      <th>Total_Pop_Female_2019</th>\n",
       "      <th>Median_Age_2019</th>\n",
       "      <th>Median_Age_Male_2019</th>\n",
       "      <th>Median_Age_Female_2019</th>\n",
       "      <th>state_2019</th>\n",
       "      <th>Total_Pop_2021</th>\n",
       "      <th>state_2021</th>\n",
       "    </tr>\n",
       "  </thead>\n",
       "  <tbody>\n",
       "    <tr>\n",
       "      <th>0</th>\n",
       "      <td>Pennsylvania</td>\n",
       "      <td>12794885</td>\n",
       "      <td>6269142</td>\n",
       "      <td>6525743</td>\n",
       "      <td>40.9</td>\n",
       "      <td>39.3</td>\n",
       "      <td>42.5</td>\n",
       "      <td>42</td>\n",
       "      <td>12791530</td>\n",
       "      <td>6265113</td>\n",
       "      <td>6526417</td>\n",
       "      <td>40.8</td>\n",
       "      <td>39.1</td>\n",
       "      <td>42.4</td>\n",
       "      <td>42</td>\n",
       "      <td>12964056</td>\n",
       "      <td>42</td>\n",
       "    </tr>\n",
       "    <tr>\n",
       "      <th>1</th>\n",
       "      <td>California</td>\n",
       "      <td>39346023</td>\n",
       "      <td>19562882</td>\n",
       "      <td>19783141</td>\n",
       "      <td>36.7</td>\n",
       "      <td>35.6</td>\n",
       "      <td>37.9</td>\n",
       "      <td>6</td>\n",
       "      <td>39283497</td>\n",
       "      <td>19526298</td>\n",
       "      <td>19757199</td>\n",
       "      <td>36.5</td>\n",
       "      <td>35.4</td>\n",
       "      <td>37.7</td>\n",
       "      <td>6</td>\n",
       "      <td>39237836</td>\n",
       "      <td>6</td>\n",
       "    </tr>\n",
       "    <tr>\n",
       "      <th>2</th>\n",
       "      <td>West Virginia</td>\n",
       "      <td>1807426</td>\n",
       "      <td>893743</td>\n",
       "      <td>913683</td>\n",
       "      <td>42.7</td>\n",
       "      <td>41.3</td>\n",
       "      <td>44.1</td>\n",
       "      <td>54</td>\n",
       "      <td>1817305</td>\n",
       "      <td>898578</td>\n",
       "      <td>918727</td>\n",
       "      <td>42.5</td>\n",
       "      <td>41.2</td>\n",
       "      <td>43.9</td>\n",
       "      <td>54</td>\n",
       "      <td>1782959</td>\n",
       "      <td>54</td>\n",
       "    </tr>\n",
       "    <tr>\n",
       "      <th>3</th>\n",
       "      <td>Utah</td>\n",
       "      <td>3151239</td>\n",
       "      <td>1586950</td>\n",
       "      <td>1564289</td>\n",
       "      <td>31.1</td>\n",
       "      <td>30.4</td>\n",
       "      <td>31.8</td>\n",
       "      <td>49</td>\n",
       "      <td>3096848</td>\n",
       "      <td>1558868</td>\n",
       "      <td>1537980</td>\n",
       "      <td>30.8</td>\n",
       "      <td>30.2</td>\n",
       "      <td>31.5</td>\n",
       "      <td>49</td>\n",
       "      <td>3337975</td>\n",
       "      <td>49</td>\n",
       "    </tr>\n",
       "    <tr>\n",
       "      <th>4</th>\n",
       "      <td>New York</td>\n",
       "      <td>19514849</td>\n",
       "      <td>9474184</td>\n",
       "      <td>10040665</td>\n",
       "      <td>39.0</td>\n",
       "      <td>37.5</td>\n",
       "      <td>40.5</td>\n",
       "      <td>36</td>\n",
       "      <td>19572319</td>\n",
       "      <td>9501001</td>\n",
       "      <td>10071318</td>\n",
       "      <td>38.8</td>\n",
       "      <td>37.3</td>\n",
       "      <td>40.3</td>\n",
       "      <td>36</td>\n",
       "      <td>19835913</td>\n",
       "      <td>36</td>\n",
       "    </tr>\n",
       "  </tbody>\n",
       "</table>\n",
       "</div>"
      ],
      "text/plain": [
       "            NAME  Total_Pop_2020  Total_Pop_Male_2020  Total_Pop_Female_2020  \\\n",
       "0   Pennsylvania        12794885              6269142                6525743   \n",
       "1     California        39346023             19562882               19783141   \n",
       "2  West Virginia         1807426               893743                 913683   \n",
       "3           Utah         3151239              1586950                1564289   \n",
       "4       New York        19514849              9474184               10040665   \n",
       "\n",
       "   Median_Age_2020  Median_Age_Male_2020  Median_Age_Female_2020  state  \\\n",
       "0             40.9                  39.3                    42.5     42   \n",
       "1             36.7                  35.6                    37.9      6   \n",
       "2             42.7                  41.3                    44.1     54   \n",
       "3             31.1                  30.4                    31.8     49   \n",
       "4             39.0                  37.5                    40.5     36   \n",
       "\n",
       "   Total_Pop_2019  Total_Pop_Male_2019  Total_Pop_Female_2019  \\\n",
       "0        12791530              6265113                6526417   \n",
       "1        39283497             19526298               19757199   \n",
       "2         1817305               898578                 918727   \n",
       "3         3096848              1558868                1537980   \n",
       "4        19572319              9501001               10071318   \n",
       "\n",
       "   Median_Age_2019  Median_Age_Male_2019  Median_Age_Female_2019  state_2019  \\\n",
       "0             40.8                  39.1                    42.4          42   \n",
       "1             36.5                  35.4                    37.7           6   \n",
       "2             42.5                  41.2                    43.9          54   \n",
       "3             30.8                  30.2                    31.5          49   \n",
       "4             38.8                  37.3                    40.3          36   \n",
       "\n",
       "   Total_Pop_2021  state_2021  \n",
       "0        12964056          42  \n",
       "1        39237836           6  \n",
       "2         1782959          54  \n",
       "3         3337975          49  \n",
       "4        19835913          36  "
      ]
     },
     "execution_count": 31,
     "metadata": {},
     "output_type": "execute_result"
    }
   ],
   "source": [
    "all_states_census_df.head()"
   ]
  },
  {
   "cell_type": "code",
   "execution_count": 32,
   "id": "38825b5e",
   "metadata": {},
   "outputs": [],
   "source": [
    "# Drop repeat state code columns\n",
    "all_states_census_df.drop(axis=1, columns=[\"state_2019\", \"state_2021\"], inplace=True)"
   ]
  },
  {
   "cell_type": "code",
   "execution_count": 33,
   "id": "4b9ae517",
   "metadata": {},
   "outputs": [],
   "source": [
    "# Save the dataframe\n",
    "all_states_census_df.to_csv(\"data_to_plot/state_level_data.csv\", index = False)\n",
    "all_states_census_df = pd.read_csv(\"data_to_plot/state_level_data.csv\")"
   ]
  },
  {
   "cell_type": "code",
   "execution_count": 34,
   "id": "00c4670e",
   "metadata": {},
   "outputs": [
    {
     "name": "stdout",
     "output_type": "stream",
     "text": [
      "<class 'pandas.core.frame.DataFrame'>\n",
      "RangeIndex: 52 entries, 0 to 51\n",
      "Data columns (total 15 columns):\n",
      " #   Column                  Non-Null Count  Dtype  \n",
      "---  ------                  --------------  -----  \n",
      " 0   NAME                    52 non-null     object \n",
      " 1   Total_Pop_2020          52 non-null     int64  \n",
      " 2   Total_Pop_Male_2020     52 non-null     int64  \n",
      " 3   Total_Pop_Female_2020   52 non-null     int64  \n",
      " 4   Median_Age_2020         52 non-null     float64\n",
      " 5   Median_Age_Male_2020    52 non-null     float64\n",
      " 6   Median_Age_Female_2020  52 non-null     float64\n",
      " 7   state                   52 non-null     int64  \n",
      " 8   Total_Pop_2019          52 non-null     int64  \n",
      " 9   Total_Pop_Male_2019     52 non-null     int64  \n",
      " 10  Total_Pop_Female_2019   52 non-null     int64  \n",
      " 11  Median_Age_2019         52 non-null     float64\n",
      " 12  Median_Age_Male_2019    52 non-null     float64\n",
      " 13  Median_Age_Female_2019  52 non-null     float64\n",
      " 14  Total_Pop_2021          52 non-null     int64  \n",
      "dtypes: float64(6), int64(8), object(1)\n",
      "memory usage: 6.2+ KB\n"
     ]
    }
   ],
   "source": [
    "# Note the change in data types after the csv file is open\n",
    "all_states_census_df.info()"
   ]
  },
  {
   "cell_type": "markdown",
   "id": "098533a7",
   "metadata": {},
   "source": [
    "## II. Load the Geo Files\n",
    "\n",
    "The US Census provides shapefiles\n",
    "\n",
    "-https://www.census.gov/geographies/mapping-files/time-series/geo/carto-boundary-file.html"
   ]
  },
  {
   "cell_type": "code",
   "execution_count": 35,
   "id": "01f3889b",
   "metadata": {},
   "outputs": [],
   "source": [
    "usmap_gdf = gpd.read_file('us_map_data/cb_2018_us_state_500k/cb_2018_us_state_500k.shp')"
   ]
  },
  {
   "cell_type": "code",
   "execution_count": 36,
   "id": "6c451cc8",
   "metadata": {
    "scrolled": true
   },
   "outputs": [
    {
     "data": {
      "text/html": [
       "<div>\n",
       "<style scoped>\n",
       "    .dataframe tbody tr th:only-of-type {\n",
       "        vertical-align: middle;\n",
       "    }\n",
       "\n",
       "    .dataframe tbody tr th {\n",
       "        vertical-align: top;\n",
       "    }\n",
       "\n",
       "    .dataframe thead th {\n",
       "        text-align: right;\n",
       "    }\n",
       "</style>\n",
       "<table border=\"1\" class=\"dataframe\">\n",
       "  <thead>\n",
       "    <tr style=\"text-align: right;\">\n",
       "      <th></th>\n",
       "      <th>STATEFP</th>\n",
       "      <th>STATENS</th>\n",
       "      <th>AFFGEOID</th>\n",
       "      <th>GEOID</th>\n",
       "      <th>STUSPS</th>\n",
       "      <th>NAME</th>\n",
       "      <th>LSAD</th>\n",
       "      <th>ALAND</th>\n",
       "      <th>AWATER</th>\n",
       "      <th>geometry</th>\n",
       "    </tr>\n",
       "  </thead>\n",
       "  <tbody>\n",
       "    <tr>\n",
       "      <th>0</th>\n",
       "      <td>28</td>\n",
       "      <td>01779790</td>\n",
       "      <td>0400000US28</td>\n",
       "      <td>28</td>\n",
       "      <td>MS</td>\n",
       "      <td>Mississippi</td>\n",
       "      <td>00</td>\n",
       "      <td>121533519481</td>\n",
       "      <td>3926919758</td>\n",
       "      <td>MULTIPOLYGON (((-88.50297 30.21523, -88.49176 ...</td>\n",
       "    </tr>\n",
       "    <tr>\n",
       "      <th>1</th>\n",
       "      <td>37</td>\n",
       "      <td>01027616</td>\n",
       "      <td>0400000US37</td>\n",
       "      <td>37</td>\n",
       "      <td>NC</td>\n",
       "      <td>North Carolina</td>\n",
       "      <td>00</td>\n",
       "      <td>125923656064</td>\n",
       "      <td>13466071395</td>\n",
       "      <td>MULTIPOLYGON (((-75.72681 35.93584, -75.71827 ...</td>\n",
       "    </tr>\n",
       "    <tr>\n",
       "      <th>2</th>\n",
       "      <td>40</td>\n",
       "      <td>01102857</td>\n",
       "      <td>0400000US40</td>\n",
       "      <td>40</td>\n",
       "      <td>OK</td>\n",
       "      <td>Oklahoma</td>\n",
       "      <td>00</td>\n",
       "      <td>177662925723</td>\n",
       "      <td>3374587997</td>\n",
       "      <td>POLYGON ((-103.00257 36.52659, -103.00219 36.6...</td>\n",
       "    </tr>\n",
       "    <tr>\n",
       "      <th>3</th>\n",
       "      <td>51</td>\n",
       "      <td>01779803</td>\n",
       "      <td>0400000US51</td>\n",
       "      <td>51</td>\n",
       "      <td>VA</td>\n",
       "      <td>Virginia</td>\n",
       "      <td>00</td>\n",
       "      <td>102257717110</td>\n",
       "      <td>8528531774</td>\n",
       "      <td>MULTIPOLYGON (((-75.74241 37.80835, -75.74151 ...</td>\n",
       "    </tr>\n",
       "    <tr>\n",
       "      <th>4</th>\n",
       "      <td>54</td>\n",
       "      <td>01779805</td>\n",
       "      <td>0400000US54</td>\n",
       "      <td>54</td>\n",
       "      <td>WV</td>\n",
       "      <td>West Virginia</td>\n",
       "      <td>00</td>\n",
       "      <td>62266474513</td>\n",
       "      <td>489028543</td>\n",
       "      <td>POLYGON ((-82.64320 38.16909, -82.64300 38.169...</td>\n",
       "    </tr>\n",
       "  </tbody>\n",
       "</table>\n",
       "</div>"
      ],
      "text/plain": [
       "  STATEFP   STATENS     AFFGEOID GEOID STUSPS            NAME LSAD  \\\n",
       "0      28  01779790  0400000US28    28     MS     Mississippi   00   \n",
       "1      37  01027616  0400000US37    37     NC  North Carolina   00   \n",
       "2      40  01102857  0400000US40    40     OK        Oklahoma   00   \n",
       "3      51  01779803  0400000US51    51     VA        Virginia   00   \n",
       "4      54  01779805  0400000US54    54     WV   West Virginia   00   \n",
       "\n",
       "          ALAND       AWATER  \\\n",
       "0  121533519481   3926919758   \n",
       "1  125923656064  13466071395   \n",
       "2  177662925723   3374587997   \n",
       "3  102257717110   8528531774   \n",
       "4   62266474513    489028543   \n",
       "\n",
       "                                            geometry  \n",
       "0  MULTIPOLYGON (((-88.50297 30.21523, -88.49176 ...  \n",
       "1  MULTIPOLYGON (((-75.72681 35.93584, -75.71827 ...  \n",
       "2  POLYGON ((-103.00257 36.52659, -103.00219 36.6...  \n",
       "3  MULTIPOLYGON (((-75.74241 37.80835, -75.74151 ...  \n",
       "4  POLYGON ((-82.64320 38.16909, -82.64300 38.169...  "
      ]
     },
     "execution_count": 36,
     "metadata": {},
     "output_type": "execute_result"
    }
   ],
   "source": [
    "usmap_gdf.head()"
   ]
  },
  {
   "cell_type": "code",
   "execution_count": 37,
   "id": "d91eac87",
   "metadata": {},
   "outputs": [
    {
     "name": "stdout",
     "output_type": "stream",
     "text": [
      "<class 'geopandas.geodataframe.GeoDataFrame'>\n",
      "RangeIndex: 56 entries, 0 to 55\n",
      "Data columns (total 10 columns):\n",
      " #   Column    Non-Null Count  Dtype   \n",
      "---  ------    --------------  -----   \n",
      " 0   STATEFP   56 non-null     object  \n",
      " 1   STATENS   56 non-null     object  \n",
      " 2   AFFGEOID  56 non-null     object  \n",
      " 3   GEOID     56 non-null     object  \n",
      " 4   STUSPS    56 non-null     object  \n",
      " 5   NAME      56 non-null     object  \n",
      " 6   LSAD      56 non-null     object  \n",
      " 7   ALAND     56 non-null     int64   \n",
      " 8   AWATER    56 non-null     int64   \n",
      " 9   geometry  56 non-null     geometry\n",
      "dtypes: geometry(1), int64(2), object(7)\n",
      "memory usage: 4.5+ KB\n"
     ]
    }
   ],
   "source": [
    "# Note the data types after the file is loaded\n",
    "usmap_gdf.info()"
   ]
  },
  {
   "cell_type": "code",
   "execution_count": 38,
   "id": "b5e18722",
   "metadata": {},
   "outputs": [],
   "source": [
    "# Convert the State ID column to an integer\n",
    "# From: https://stackoverflow.com/posts/60024263/revisions\n",
    "usmap_gdf[\"GEOID\"] = usmap_gdf[\"GEOID\"].str.strip()\n",
    "usmap_gdf[\"GEOID\"] = usmap_gdf[\"GEOID\"].astype('float')\n",
    "usmap_gdf[\"GEOID\"] = usmap_gdf[\"GEOID\"].astype(\"Int64\")"
   ]
  },
  {
   "cell_type": "code",
   "execution_count": 39,
   "id": "9d27c460",
   "metadata": {
    "scrolled": true
   },
   "outputs": [
    {
     "name": "stdout",
     "output_type": "stream",
     "text": [
      "<class 'geopandas.geodataframe.GeoDataFrame'>\n",
      "RangeIndex: 56 entries, 0 to 55\n",
      "Data columns (total 10 columns):\n",
      " #   Column    Non-Null Count  Dtype   \n",
      "---  ------    --------------  -----   \n",
      " 0   STATEFP   56 non-null     object  \n",
      " 1   STATENS   56 non-null     object  \n",
      " 2   AFFGEOID  56 non-null     object  \n",
      " 3   GEOID     56 non-null     Int64   \n",
      " 4   STUSPS    56 non-null     object  \n",
      " 5   NAME      56 non-null     object  \n",
      " 6   LSAD      56 non-null     object  \n",
      " 7   ALAND     56 non-null     int64   \n",
      " 8   AWATER    56 non-null     int64   \n",
      " 9   geometry  56 non-null     geometry\n",
      "dtypes: Int64(1), geometry(1), int64(2), object(6)\n",
      "memory usage: 4.6+ KB\n"
     ]
    }
   ],
   "source": [
    "# Review the converted data types\n",
    "usmap_gdf.info()"
   ]
  }
 ],
 "metadata": {
  "kernelspec": {
   "display_name": "Python 3 (ipykernel)",
   "language": "python",
   "name": "python3"
  },
  "language_info": {
   "codemirror_mode": {
    "name": "ipython",
    "version": 3
   },
   "file_extension": ".py",
   "mimetype": "text/x-python",
   "name": "python",
   "nbconvert_exporter": "python",
   "pygments_lexer": "ipython3",
   "version": "3.10.1"
  }
 },
 "nbformat": 4,
 "nbformat_minor": 5
}
