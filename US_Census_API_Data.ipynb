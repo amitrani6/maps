{
 "cells": [
  {
   "cell_type": "markdown",
   "id": "91d16f55",
   "metadata": {},
   "source": [
    "# Accessing Data From The US Census\n",
    "\n",
    "This notebook contains code to access data from the US Census' API. There are numerous datasets available ([*link*](https://www.census.gov/data/developers/data-sets.html)).\n",
    "\n",
    "The **American Community Survey** (ACS, [*link*](https://www.census.gov/programs-surveys/acs)) contains various demographic data collected across the country. There are four versions of this survey based on the timeframe of the collected data (*1 to 5 years of data*) and the granularity of location (*city, state, ZIP Code*). The website offers guidelines for when to use which survey ([*link*](https://www.census.gov/programs-surveys/acs/guidance/estimates.html)).\n",
    "\n",
    "The schedule for the release of the data is located [here](https://www.census.gov/programs-surveys/acs/news/data-releases/2020/release-schedule.html). As of March 12, 2022 the 2019 ACS was the most recent release, which does not account for the effects of the lockdowns. The 2020 survey is planned to be released on March 17, 2022.\n",
    "\n",
    "The [examples](https://api.census.gov/data/2019/acs/acs5/examples.html) page contains the formatting necessary to make calls and lists the geographic area of data that is available."
   ]
  },
  {
   "cell_type": "code",
   "execution_count": 1,
   "id": "eaf9fcf9",
   "metadata": {},
   "outputs": [],
   "source": [
    "# Import the necessary libraries\n",
    "import pandas as pd\n",
    "import numpy as np\n",
    "import requests\n",
    "import json\n",
    "from datetime import date\n",
    "import os\n",
    "from tqdm import tqdm\n",
    "from sodapy import Socrata"
   ]
  },
  {
   "cell_type": "markdown",
   "id": "55d52bac",
   "metadata": {},
   "source": [
    "## I. A Function To Get State Level Data\n",
    "https://api.census.gov/data/2019/acs/acs1?get=NAME,B01001_001E&for=state:01\n",
    "\n",
    "\n",
    "You must match the zipcode with the [state code](https://api.census.gov/data/2019/acs/acs1?get=NAME&for=state:*) in order to get the data.\n",
    "\n",
    "For instance *36* is the code for NY."
   ]
  },
  {
   "cell_type": "code",
   "execution_count": 2,
   "id": "15e00dd3",
   "metadata": {},
   "outputs": [],
   "source": [
    "#A function for the API call\n",
    "# https://www.w3schools.com/python/ref_requests_response.asp\n",
    "\n",
    "def obtain_census_data(year, codes, state):\n",
    "    state_code_url = 'https://api.census.gov/data/{}/acs/acs1?get=NAME,{}&for=state:{}'.format(year, codes, state)\n",
    "    state_code_content = requests.get(state_code_url).json()\n",
    "    return state_code_content"
   ]
  },
  {
   "cell_type": "code",
   "execution_count": 3,
   "id": "68028355",
   "metadata": {},
   "outputs": [
    {
     "data": {
      "text/plain": [
       "[['NAME', 'B19326_001E', 'state'], ['New York', '36165', '36']]"
      ]
     },
     "execution_count": 3,
     "metadata": {},
     "output_type": "execute_result"
    }
   ],
   "source": [
    "# An example call for median income\n",
    "obtain_census_data(year = '2019', codes = 'B19326_001E', state = '36')"
   ]
  },
  {
   "cell_type": "markdown",
   "id": "e216c8de",
   "metadata": {},
   "source": [
    "The survey's variable list is [here](https://api.census.gov/data/2019/acs/acs1/variables.html), the variable codes are not always the same year to year and survey version to survey version (*i.e. the 5 year and 1 year surveys*). There are over 31,000 variables in this dataset, loading and searching through them may take a while."
   ]
  },
  {
   "cell_type": "code",
   "execution_count": 4,
   "id": "178cf08a",
   "metadata": {},
   "outputs": [],
   "source": [
    "census_codes = {\n",
    "    \"Total_Pop\": \"B01001_001E\",\n",
    "    \"Total_Pop_Male\": \"B01001_002E\",\n",
    "    \"Total_Pop_Female\": \"B01001_026E\",\n",
    "    \"Median_Age\": \"B01002_001E\",\n",
    "    \"Median_Age_Male\": \"B01002_002E\",\n",
    "    \"Median_Age_Female\": \"B01002_003E\",\n",
    "}"
   ]
  },
  {
   "cell_type": "code",
   "execution_count": 5,
   "id": "2eb75da8",
   "metadata": {},
   "outputs": [],
   "source": [
    "inv_census_codes = {v: k for k, v in census_codes.items()}"
   ]
  },
  {
   "cell_type": "code",
   "execution_count": 6,
   "id": "054dd982",
   "metadata": {},
   "outputs": [
    {
     "data": {
      "text/plain": [
       "{'B01001_001E': 'Total_Pop',\n",
       " 'B01001_002E': 'Total_Pop_Male',\n",
       " 'B01001_026E': 'Total_Pop_Female',\n",
       " 'B01002_001E': 'Median_Age',\n",
       " 'B01002_002E': 'Median_Age_Male',\n",
       " 'B01002_003E': 'Median_Age_Female'}"
      ]
     },
     "execution_count": 6,
     "metadata": {},
     "output_type": "execute_result"
    }
   ],
   "source": [
    "# An inverted dictionary\n",
    "inv_census_codes"
   ]
  },
  {
   "cell_type": "code",
   "execution_count": 7,
   "id": "f5874b59",
   "metadata": {},
   "outputs": [],
   "source": [
    "#Inverts the dictionary so the columns can be renamed, add keys from the forthcoming index dictionary to this dictionary\n",
    "inv_census_codes = {v: k for k, v in census_codes.items()}\n",
    "# inv_census_codes.update({'District_Name':'District_Name', 'CD': 'CD', 'State_Id': 'State_Id','State': 'State', 'CD_Id_Year': 'CD_Id_Year'})\n",
    "\n",
    "#Creates a string of codes to be used in the API call\n",
    "columns_url = ''\n",
    "\n",
    "for key in census_codes:\n",
    "    columns_url += census_codes[key] + ','\n",
    "    \n",
    "columns_url = columns_url[:-1]"
   ]
  },
  {
   "cell_type": "code",
   "execution_count": 8,
   "id": "50b13ad6",
   "metadata": {},
   "outputs": [
    {
     "data": {
      "text/plain": [
       "[['NAME',\n",
       "  'B01001_001E',\n",
       "  'B01001_002E',\n",
       "  'B01001_026E',\n",
       "  'B01002_001E',\n",
       "  'B01002_002E',\n",
       "  'B01002_003E',\n",
       "  'state'],\n",
       " ['New York', '19453561', '9450810', '10002751', '39.2', '37.6', '40.8', '36']]"
      ]
     },
     "execution_count": 8,
     "metadata": {},
     "output_type": "execute_result"
    }
   ],
   "source": [
    "obtain_census_data(year = '2019', codes = columns_url, state = '36')"
   ]
  },
  {
   "cell_type": "code",
   "execution_count": null,
   "id": "50fa5cd6",
   "metadata": {},
   "outputs": [],
   "source": []
  }
 ],
 "metadata": {
  "kernelspec": {
   "display_name": "Python 3 (ipykernel)",
   "language": "python",
   "name": "python3"
  },
  "language_info": {
   "codemirror_mode": {
    "name": "ipython",
    "version": 3
   },
   "file_extension": ".py",
   "mimetype": "text/x-python",
   "name": "python",
   "nbconvert_exporter": "python",
   "pygments_lexer": "ipython3",
   "version": "3.10.1"
  }
 },
 "nbformat": 4,
 "nbformat_minor": 5
}
